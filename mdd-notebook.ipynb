{
 "cells": [
  {
   "cell_type": "code",
   "execution_count": 1,
   "metadata": {},
   "outputs": [],
   "source": [
    "import pandas as pd\n",
    "import numpy as np\n",
    "from matplotlib import pyplot as plt"
   ]
  },
  {
   "cell_type": "code",
   "execution_count": 2,
   "metadata": {},
   "outputs": [],
   "source": [
    "def calculateMdd(df, var, winodw = 20):\n",
    "    '''\n",
    "\n",
    "    Window refers how window to look back in calculating maximum drawdown.\n",
    "\n",
    "    :param winodw:\n",
    "    :return:\n",
    "    '''\n",
    "    return df.prc.rolling(window = window).apply(lambda x : (min(x)-max(x))/max(x))"
   ]
  },
  {
   "cell_type": "code",
   "execution_count": 3,
   "metadata": {},
   "outputs": [],
   "source": [
    "#preproc\n",
    "\n",
    "df = pd.read_csv(\"Price.csv\")\n",
    "df.dropna(inplace=True)\n",
    "#df.iloc[:,0] = df.iloc[:,0].apply(lambda x: pd.Timestamp(x))\n",
    "df.iloc[:,0] = pd.to_datetime(df.iloc[:,0])\n",
    "df.columns = ['date', 'prc']\n",
    "df.sort_values(['date'],inplace=True)\n",
    "#df['ret'] = df.prc.pct_change(1)\n",
    "df.set_index('date',inplace=True)"
   ]
  },
  {
   "cell_type": "code",
   "execution_count": 4,
   "metadata": {
    "collapsed": true
   },
   "outputs": [
    {
     "name": "stderr",
     "output_type": "stream",
     "text": [
      "C:\\Users\\Cho\\AppData\\Local\\Programs\\Python\\Python36\\lib\\site-packages\\ipykernel_launcher.py:3: FutureWarning: Currently, 'apply' passes the values as ndarrays to the applied function. In the future, this will change to passing it as Series objects. You need to specify 'raw=True' to keep the current behaviour, and you can pass 'raw=False' to silence this warning\n  This is separate from the ipykernel package so we can avoid doing imports until\nC:\\Users\\Cho\\AppData\\Local\\Programs\\Python\\Python36\\lib\\site-packages\\ipykernel_launcher.py:9: FutureWarning: Currently, 'apply' passes the values as ndarrays to the applied function. In the future, this will change to passing it as Series objects. You need to specify 'raw=True' to keep the current behaviour, and you can pass 'raw=False' to silence this warning\n  if __name__ == '__main__':\n"
     ]
    }
   ],
   "source": [
    "window = 10\n",
    "\n",
    "df['mdd_noFunc'] = df.prc.rolling(window = window).apply(lambda x : (min(x)-max(x))/max(x))\n",
    "df['mdd1'] = calculateMdd(df,'ret',window)"
   ]
  },
  {
   "cell_type": "code",
   "execution_count": 5,
   "metadata": {},
   "outputs": [],
   "source": [
    "df.mdd1.plot()\n",
    "plt.show()"
   ]
  },
  {
   "cell_type": "code",
   "execution_count": null,
   "metadata": {},
   "outputs": [],
   "source": []
  }
 ],
 "metadata": {
  "kernelspec": {
   "display_name": "Python 2",
   "language": "python",
   "name": "python2"
  },
  "language_info": {
   "codemirror_mode": {
    "name": "ipython",
    "version": 2
   },
   "file_extension": ".py",
   "mimetype": "text/x-python",
   "name": "python",
   "nbconvert_exporter": "python",
   "pygments_lexer": "ipython2",
   "version": "2.7.6"
  }
 },
 "nbformat": 4,
 "nbformat_minor": 0
}
